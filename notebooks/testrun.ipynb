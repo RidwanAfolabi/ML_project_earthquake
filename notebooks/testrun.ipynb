{
 "cells": [
  {
   "cell_type": "markdown",
   "id": "70b1f74f",
   "metadata": {
    "vscode": {
     "languageId": "plaintext"
    }
   },
   "source": [
    "# Hello Mee"
   ]
  },
  {
   "cell_type": "markdown",
   "id": "272c2a9f-1f8c-4596-83d1-156b05ee1909",
   "metadata": {},
   "source": [
    "# ML PROJECT"
   ]
  },
  {
   "cell_type": "markdown",
   "metadata": {},
   "source": [
    "# How are you"
   ]
  }
 ],
 "metadata": {
  "kernelspec": {
   "display_name": "base",
   "language": "python",
   "name": "python3"
  },
  "language_info": {
   "codemirror_mode": {
    "name": "ipython",
    "version": 3
   },
   "file_extension": ".py",
   "mimetype": "text/x-python",
   "name": "python",
   "nbconvert_exporter": "python",
   "pygments_lexer": "ipython3",
   "version": "3.12.7"
  }
 },
 "nbformat": 4,
 "nbformat_minor": 5
}
